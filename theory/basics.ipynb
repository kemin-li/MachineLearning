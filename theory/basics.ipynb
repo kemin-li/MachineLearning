{
 "cells": [
  {
   "cell_type": "code",
   "execution_count": 18,
   "metadata": {},
   "outputs": [],
   "source": [
    "import matplotlib.pyplot as plt\n",
    "import seaborn\n",
    "from scipy import stats\n",
    "from IPython.core.display import HTML, Latex, Markdown"
   ]
  },
  {
   "cell_type": "code",
   "execution_count": 19,
   "metadata": {},
   "outputs": [
    {
     "data": {
      "text/html": [
       "\n",
       "<h3><center>Confusion matrix</center></h3>\n",
       "<center>\n",
       "<table width=\"400\" align=\"center\">\n",
       "<tr>\n",
       "<th> </th>\n",
       "<th rowspan=\"1\" colspan=\"2\" align=\"center\"  style=\"border: 1px\">+</th>\n",
       "<th rowspan=\"1\" colspan=\"2\" align=\"center\"  style=\"border: 1px\">-</th>\n",
       "</tr>\n",
       "<tr>\n",
       "<td>+</td>\n",
       "<td colspan=\"2\" text-align=\"center\" style=\"background: rgba(0,255,0,0.15)\">TP</td>\n",
       "<td colspan=\"2\" align=\"center\" style=\"background: rgba(255,0,0,0.2)\">FN (type II)</td>\n",
       "</tr>\n",
       "<tr>\n",
       "<td></td>\n",
       "<td colspan=\"2\" text-align=\"center\" style=\"text-align=center;background: rgba(0,255,0,0.15)\">True positives</td>\n",
       "<td colspan=\"2\" align=\"center\" style=\"background: rgba(255,0,0,0.2)\">False negatives</td>\n",
       "</tr>\n",
       "<tr>\n",
       "<td>-</td>\n",
       "<td colspan=\"2\" align=\"center\" style=\"background: rgba(255,0,0,0.2)\">FP (type I)</td>\n",
       "<td colspan=\"2\" text-align=\"center\" style=\"background: rgba(0,255,0,0.15)\">TN</td>\n",
       "</tr>\n",
       "<tr>\n",
       "<td></td>\n",
       "<td colspan=\"2\" align=\"center\" style=\"background: rgba(255,0,0,0.2)\">False positives</td>\n",
       "<td colspan=\"2\" text-align=\"center\" style=\"background: rgba(0,255,0,0.15)\">True negatives</td>\n",
       "</tr>\n",
       "</table></center>\n"
      ],
      "text/plain": [
       "<IPython.core.display.HTML object>"
      ]
     },
     "execution_count": 19,
     "metadata": {},
     "output_type": "execute_result"
    }
   ],
   "source": [
    "HTML(\"\"\"\n",
    "<h3><center>Confusion matrix</center></h3>\n",
    "<center>\n",
    "<table width=\"400\" align=\"center\">\n",
    "<tr>\n",
    "<th> </th>\n",
    "<th rowspan=\"1\" colspan=\"2\" align=\"center\"  style=\"border: 1px\">+</th>\n",
    "<th rowspan=\"1\" colspan=\"2\" align=\"center\"  style=\"border: 1px\">-</th>\n",
    "</tr>\n",
    "<tr>\n",
    "<td>+</td>\n",
    "<td colspan=\"2\" text-align=\"center\" style=\"background: rgba(0,255,0,0.15)\">TP</td>\n",
    "<td colspan=\"2\" align=\"center\" style=\"background: rgba(255,0,0,0.2)\">FN (type II)</td>\n",
    "</tr>\n",
    "<tr>\n",
    "<td></td>\n",
    "<td colspan=\"2\" text-align=\"center\" style=\"text-align=center;background: rgba(0,255,0,0.15)\">True positives</td>\n",
    "<td colspan=\"2\" align=\"center\" style=\"background: rgba(255,0,0,0.2)\">False negatives</td>\n",
    "</tr>\n",
    "<tr>\n",
    "<td>-</td>\n",
    "<td colspan=\"2\" align=\"center\" style=\"background: rgba(255,0,0,0.2)\">FP (type I)</td>\n",
    "<td colspan=\"2\" text-align=\"center\" style=\"background: rgba(0,255,0,0.15)\">TN</td>\n",
    "</tr>\n",
    "<tr>\n",
    "<td></td>\n",
    "<td colspan=\"2\" align=\"center\" style=\"background: rgba(255,0,0,0.2)\">False positives</td>\n",
    "<td colspan=\"2\" text-align=\"center\" style=\"background: rgba(0,255,0,0.15)\">True negatives</td>\n",
    "</tr>\n",
    "</table></center>\n",
    "\"\"\")"
   ]
  },
  {
   "cell_type": "markdown",
   "metadata": {},
   "source": [
    "## Metrics"
   ]
  },
  {
   "cell_type": "markdown",
   "metadata": {},
   "source": [
    "**Classifications**\n",
    "- True positive (TP, positive classified as poitive)\n",
    "- True negative (TN, negative classified as negative)\n",
    "- False positive (FP, negative classified as poitive)\n",
    "- False negative (FN, positive classified as negative)\n",
    "- Confusion matrix:\n",
    "- Accuracy: when target classes are balanced\n",
    "$$\\frac{TP+TN}{Total}=\\frac{TP+TN}{TP+TN+FP+FN}$$  \n",
    "- Precision, or PPV (positive predictive value):\n",
    "$$PPV=\\frac{TP}{TP+FP}$$ \n",
    "- Recall, Sensitivity, or TPR:\n",
    "$$TPR=\\frac{TP}{TP+FN}$$ \n",
    "- Specificity, selectivity, or TNR:\n",
    "$$TNR=\\frac{TN}{TN+FP}$$ \n",
    "- fall out, or FPR\n",
    "$$FPR=\\frac{FP}{FP+TN}$$\n",
    "- F1 score: harmonic mean of \n",
    "$$\\frac{2*\\rm{Precision}*{Recall}}{\\rm{Precision}+\\rm{Recall}}=\\frac{2TP}{2TP+FP+FN}$$ \n",
    "- Log loss, if classifier output is probability\n",
    "$$ \\rm{logloss} = \\frac{-1}{N}\\sum_{i=1}^N y_i\\log(p(y_i))+(1-y_i)\\log(1-p(y_i))$$\n",
    "- Gini score (coefficient), \n",
    "<br> \n",
    "\n",
    "**Regression**\n",
    "- MSE (mean squared error). Most commonly used\n",
    "$$MSE=\\frac{1}{N}\\sum_{i=1}^N(y_i -\\hat y_i)^2$$\n",
    "- MAE (mean absolute error). More robust to outlier\n",
    "$$MAE=\\frac{1}{N}\\sum_{i=1}^N |y_i -\\hat y_i|$$\n",
    "- MedAE (median absolute error). Robust to outlier\n",
    "$$MedAE=\\rm{median} (|y_1-\\hat y_1|, ..., |y_N -\\hat y_N|$$\n",
    "- R-squared / Adjusted $R^2$\n",
    " - how good we reduce noise compared with a mean estimator\n",
    "$$R^2 = 1-\\frac{MSE(model)}{MSE(baseline)}=1-\\frac{\\sum_i^N(y_i-\\hat y_i)^2}{\\sum_i^N(\\bar y_i-y_i)^2}$$\n",
    " - R-squared does not penalize for adding new features that add no value to the model, use adjusted R--squared, k is number of features, n is number of samples\n",
    "$$\\bar R^2 = 1-(1-R^2)\\left[\\frac{n-1}{n-(k+1)}\\right]$$\n",
    "- Explained variance score (EVS)\n",
    "$$EVS=1-\\frac{var(y-\\hat y)}{var(y)}$$\n",
    "- AIC (Akaike Information Criterion), log-likelihood functions for common predictive models include MSE for linear regression and log loss (binary cross entropy) for binary classification.\n",
    "$$2M-2n\\log(L(M))$$\n",
    "- BIC (Bayesian Information Criterion), the derivation of BIC under the Bayesian probability framework means that if a selection of candidate models includes a true model for the dataset, then the probability that BIC will select the true model increases with the size of the training dataset. This cannot be said for the AIC score. A downside of BIC is that for smaller, less representative training datasets, it is more likely to choose models that are too simple.\n",
    "$$M\\log(n+2)-2n\\log(L(M)$$\n",
    "- MDL (Minimum Description Length), the minimum of the sum of the number of bits required to represent the data and the model. The negative log-likelihood of the model parameters (theta) and the negative log-likelihood of the target values (y) given the input values (X) and the model parameters (theta). MDL is very similar to BIC.\n",
    "$$MDL=-\\log(P(\\theta))–\\log(P(y|X, \\theta))$$"
   ]
  },
  {
   "cell_type": "markdown",
   "metadata": {},
   "source": [
    "## ROC, AUC, PR curve\n",
    "- Receiver operating characteristic (ROC): TPR vs. FPR for various threshold. Intuitive to understand, normally it's impossible to reduce both increase true positive rate and reduce false positive error. A straight $45^o$ line is ROC for random coin toss.\n",
    " - when shift threshold toward negative to have hight TPR, the probaility of false positive would also increase.\n",
    " - Can not get to point (0, 1) unless the data can be perfectly separated.\n",
    "- AUC area under the ROC curve, value between 0 and 1. Typically the larger the better\n",
    "- Precision recall curve: Precision vs. recall when the classes are imbalanced."
   ]
  },
  {
   "cell_type": "code",
   "execution_count": 21,
   "metadata": {},
   "outputs": [
    {
     "data": {
      "text/plain": [
       "[-4, 5, 0, 0.5]"
      ]
     },
     "execution_count": 21,
     "metadata": {},
     "output_type": "execute_result"
    },
    {
     "data": {
      "image/png": "[encoded data removed]",
      "text/plain": [
       "<Figure size 432x288 with 1 Axes>"
      ]
     },
     "metadata": {},
     "output_type": "display_data"
    }
   ],
   "source": [
    "th=1\n",
    "dist1 = stats.norm(0, 1)\n",
    "dist2 = stats.norm(2, 1)\n",
    "\n",
    "#x11=np.linspace(dist1.ppf(0.001), dist1.ppf(0.75), 100)\n",
    "#x12=np.linspace(dist1.ppf(0.75), dist1.ppf(0.999), 100)\n",
    "x11=np.linspace(-4, 1, 100)\n",
    "x12=np.linspace(1, 4, 100)\n",
    "y11=dist1.pdf(x11)\n",
    "y12=dist1.pdf(x12)\n",
    "\n",
    "#x21=np.linspace(dist2.ppf(0.001), dist2.ppf(0.75), 100)\n",
    "#x22=np.linspace(dist2.ppf(0.75), dist2.ppf(0.999), 100)\n",
    "x21=np.linspace(-3, 1, 100)\n",
    "x22=np.linspace(1, 5, 100)\n",
    "y21=dist2.pdf(x21)\n",
    "y22=dist2.pdf(x22)\n",
    "\n",
    "plt.stackplot(x11, y11, color='b', alpha=0.2)\n",
    "plt.stackplot(x12, y12, color='yellow', alpha=0.2)\n",
    "plt.stackplot(x21, y21, color='g', alpha=0.2)\n",
    "plt.stackplot(x22, y22, color='g', alpha=0.2)\n",
    "#plt.stackplot(x1, y1, y2, alpha=0.2, baseline='zero')\n",
    "plt.axvline(x=th)\n",
    "plt.axis([-4, 5, 0, .5])"
   ]
  },
  {
   "cell_type": "markdown",
   "metadata": {},
   "source": [
    "## Multiclass metrics\n",
    "- **macro**: simply calculates the mean of the binary metrics, giving equal weight to each class.\n",
    "- **weighted**: compute the average of binary metrics in which each class's score is weighted by its presence (ratio) in the true data sample.\n",
    "- **micro**: give each sample-class pair an equal contribution to the overall metric."
   ]
  },
  {
   "cell_type": "markdown",
   "metadata": {},
   "source": [
    "## Clustering metrics\n",
    "- "
   ]
  },
  {
   "cell_type": "markdown",
   "metadata": {},
   "source": [
    "## Distance or similarity\n",
    "- Euclidean distance, this is well known metric between two points in multi-dimensional space. Straight line between two points in Euclidean space. L2 norm\n",
    "$$\\sqrt{\\sum_i (x_i-y_i)^2}$$\n",
    "- Manhanttan distance, distance between two points follow a grid path (like streets in Manhattan), L1 norm\n",
    "$$\\sum_i |x_i-y_i|$$\n",
    "- Mahalanobis distance. measure the distancerelative to the centroid in multivariate data (not circular/spherical, but elliptical)\n",
    "$$\\sqrt{(X_A-X_B)^T * Cov^{-1} * (X_A-X_B)}$$, \n",
    "where C is sample covariance matrix. Distance normalized by covariance matrix\n",
    "- Cosine similarity, cosine of the angle between two vectors. the smaller the angle, the larger similarity. value between [-1, 1], independent of their magnitude.\n",
    "$$\\cos(\\theta) = \\frac{<A, B>}{|A|_2|B|_2}=\\frac{\\sum_i a_ib_i}{\\sqrt{\\sum_i a_i^2}\\sqrt{\\sum_i b_i^2}}$$\n",
    "- Jaccard similarity, on set. the ratio of intersection set size over union set size\n",
    "$$J(A,B)=\\frac{|A\\cap B|}{|A\\cup B|}$$"
   ]
  },
  {
   "cell_type": "markdown",
   "metadata": {},
   "source": [
    "## Model selection\n",
    "- Cross validation\n",
    "- Regularization\n",
    " - Lasso: shrink some coefficients to 0, feature selection\n",
    " $$ Cost + \\lambda||\\theta||_1$$\n",
    " - Ridge: make coefficients smaller\n",
    " $$ Cost + \\lambda||\\theta||_2^2$$\n",
    " - Elastic Net: tradeof between feature selection and small coefficients\n",
    " $$Cost+\\lambda\\Big[(1-\\alpha)||\\theta||_1+\\alpha||\\theta||_2^2\\Big]$$"
   ]
  },
  {
   "cell_type": "markdown",
   "metadata": {},
   "source": [
    "## Learning theory\n",
    "- Union bound: Let $S_1,...,S_k$ be $k$ events\n",
    "$$P(A_1\\cup ...\\cup A_k)\\leqslant P(A_1)+...+P(A_k)$$\n",
    "- Jensen's inequality: Let $f$ be a convex function and $X$ a random variables\n",
    "$$E[f(X)]\\geqslant f(E[X])$$\n",
    "- VC dimension: the Vapnik-Chervonenkis (VC) dimension of a given infinite hypothesis class $H$, noted $VC(H)$ is the size of the largest set that is shattered by $H$. The $VC$ dimension of $\\mathcal{H}=\\{\\rm{set of linear classifiers in 2 dimensions}\\}$ is 3.\n",
    "- Theorem (Vapnik): Let $H$ be given, with $\\textrm{VC}(\\mathcal{H})=d$ and $m$ the number of training examples. With probability at least $1−\\delta$, we have:\n",
    "$$\\epsilon(\\widehat{h})\\leqslant \\left(\\min_{h\\in\\mathcal{H}}\\epsilon(h)\\right) + O\\left(\\sqrt{\\frac{d}{m}\\log\\left(\\frac{m}{d}\\right)+\\frac{1}{m}\\log\\left(\\frac{1}{\\delta}\\right)}\\right)$$"
   ]
  },
  {
   "cell_type": "markdown",
   "metadata": {},
   "source": [
    "### Bais-Variance trade off"
   ]
  },
  {
   "cell_type": "code",
   "execution_count": null,
   "metadata": {},
   "outputs": [],
   "source": []
  }
 ],
 "metadata": {
  "kernelspec": {
   "display_name": "Python 3",
   "language": "python",
   "name": "python3"
  },
  "language_info": {
   "codemirror_mode": {
    "name": "ipython",
    "version": 3
   },
   "file_extension": ".py",
   "mimetype": "text/x-python",
   "name": "python",
   "nbconvert_exporter": "python",
   "pygments_lexer": "ipython3",
   "version": "3.6.5"
  }
 },
 "nbformat": 4,
 "nbformat_minor": 2
}
