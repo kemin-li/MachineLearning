{
 "cells": [
  {
   "cell_type": "code",
   "execution_count": 2,
   "metadata": {},
   "outputs": [],
   "source": [
    "import matplotlib.pyplot as plt\n",
    "import seaborn\n",
    "from scipy import stats"
   ]
  },
  {
   "cell_type": "markdown",
   "metadata": {},
   "source": [
    "## Metrics"
   ]
  },
  {
   "cell_type": "markdown",
   "metadata": {},
   "source": [
    "**Classifications**\n",
    "- True positive (TP, positive classified as poitive)\n",
    "- True negative (TN, negative classified as negative)\n",
    "- False positive (FP, negative classified as poitive)\n",
    "- False negative (FN, positive classified as negative)\n",
    "- Accuracy: when target classes are balanced\n",
    "$$\\frac{TP+TN}{Total}=\\frac{TP+TN}{TP+TN+FP+FN}$$  \n",
    "- Precision, or PPV (positive predictive value):\n",
    "$$PPV=\\frac{TP}{TP+FP}$$ \n",
    "- Recall, Sensitivity, or TPR:\n",
    "$$TPR=\\frac{TP}{TP+FN}$$ \n",
    "- Specificity, selectivity, or TNR:\n",
    "$$TNR=\\frac{TN}{TN+FP}$$ \n",
    "- fall out, or FPR\n",
    "$$FPR=\\frac{FP}{FP+TN}$$\n",
    "- F1 score: harmonic mean of \n",
    "$$\\frac{2*\\rm{Precision}*{Recall}}{\\rm{Precision}+\\rm{Recall}}=\\frac{2TP}{2TP+FP+FN}$$ \n",
    "- Confusion matrix  \n",
    "- Log loss, if classifier output is probability\n",
    "$$ \\rm{logloss} = \\frac{-1}{N}\\sum_{i=1}^N y_i\\log(p(y_i))+(1-y_i)\\log(1-p(y_i))$$\n",
    "- Gini score (coefficient), \n",
    "<br> \n",
    "\n",
    "**Regression**\n",
    "- MSE (mean squared error). Most commonly used\n",
    "$$MSE=\\frac{1}{N}\\sum_{i=1}^N(y_i -\\hat y_i)^2$$\n",
    "- MAE (mean absolute error). More robust to outlier\n",
    "$$MAE=\\frac{1}{N}\\sum_{i=1}^N |y_i -\\hat y_i|$$\n",
    "- R-squared / Adjusted $R^2$\n",
    " - how good we reduce noise compared with a mean estimator\n",
    "$$R^2 = 1-\\frac{MSE(model)}{MSE(baseline)}=1-\\frac{\\sum_i^N(y_i-\\hat y_i)^2}{\\sum_i^N(\\bar y_i-y_i)^2}$$\n",
    " - R-squared does not penalize for adding new features that add no value to the model, use adjusted R--squared, k is number of features, n is number of samples\n",
    "$$\\bar R^2 = 1-(1-R^2)\\left[\\frac{n-1}{n-(k+1)}\\right]$$"
   ]
  },
  {
   "cell_type": "markdown",
   "metadata": {},
   "source": [
    "## ROC, AUC, PR curve\n",
    "- Receiver operating characteristic (ROC): TPR vs. FPR for various threshold. Intuitive to understand, normally it's impossible to reduce both increase true positive rate and reduce false positive error. A straight $45^o$ line is ROC for random coin toss.\n",
    " - when shift threshold toward negative to have hight TPR, the probaility of false positive would also increase.\n",
    " - Can not get to point (0, 1) unless the data can be perfectly separated.\n",
    "- AUC area under the ROC curve, value between 0 and 1. Typically the larger the better\n",
    "- Precision recall curve: Precision vs. recall when the classes are imbalanced."
   ]
  },
  {
   "cell_type": "code",
   "execution_count": 9,
   "metadata": {},
   "outputs": [
    {
     "data": {
      "text/plain": [
       "[-4, 5, 0, 0.5]"
      ]
     },
     "execution_count": 9,
     "metadata": {},
     "output_type": "execute_result"
    },
    {
     "data": {
      "image/png": "[encoded data removed]",
      "text/plain": [
       "<Figure size 432x288 with 1 Axes>"
      ]
     },
     "metadata": {},
     "output_type": "display_data"
    }
   ],
   "source": [
    "th=1\n",
    "dist1 = stats.norm(0, 1)\n",
    "dist2 = stats.norm(2, 1)\n",
    "\n",
    "#x11=np.linspace(dist1.ppf(0.001), dist1.ppf(0.75), 100)\n",
    "#x12=np.linspace(dist1.ppf(0.75), dist1.ppf(0.999), 100)\n",
    "x11=np.linspace(-4, 1, 100)\n",
    "x12=np.linspace(1, 4, 100)\n",
    "y11=dist1.pdf(x11)\n",
    "y12=dist1.pdf(x12)\n",
    "\n",
    "#x21=np.linspace(dist2.ppf(0.001), dist2.ppf(0.75), 100)\n",
    "#x22=np.linspace(dist2.ppf(0.75), dist2.ppf(0.999), 100)\n",
    "x21=np.linspace(-3, 1, 100)\n",
    "x22=np.linspace(1, 5, 100)\n",
    "y21=dist2.pdf(x21)\n",
    "y22=dist2.pdf(x22)\n",
    "\n",
    "plt.stackplot(x11, y11, color='b', linestyle='--', alpha=0.2)\n",
    "plt.stackplot(x12, y12, color='yellow', linestyle='--', alpha=0.2)\n",
    "plt.stackplot(x21, y21, color='g', alpha=0.2)\n",
    "plt.stackplot(x22, y22, color='g', alpha=0.2)\n",
    "#plt.stackplot(x1, y1, y2, alpha=0.2, baseline='zero')\n",
    "plt.axis([-4, 5, 0, .5])"
   ]
  },
  {
   "cell_type": "markdown",
   "metadata": {},
   "source": [
    "## Multiclass metrics\n",
    "- **macro**: simply calculates the mean of the binary metrics, giving equal weight to each class.\n",
    "- **weighted**: compute the average of binary metrics in which each class's score is weighted by its presence (ratio) in the true data sample.\n",
    "- **micro**: give each sample-class pair an equal contribution to the overall metric."
   ]
  },
  {
   "cell_type": "markdown",
   "metadata": {},
   "source": [
    "## Distance or similarity\n",
    "- Euclidean distance, this is well known metric between two points in multi-dimensional space. Straight line between two points in Euclidean space. L2 norm\n",
    "$$\\sqrt{\\sum_i (x_i-y_i)^2}$$\n",
    "- Manhanttan distance, distance between two points follow a grid path (like streets in Manhattan), L1 norm\n",
    "$$\\sum_i |x_i-y_i|$$\n",
    "- Mahalanobis distance. measure the distancerelative to the centroid in multivariate data (not circular/spherical, but elliptical)\n",
    "$$\\sqrt{(X_A-X_B)^T * Cov^{-1} * (X_A-X_B)}$$, \n",
    "where C is sample covariance matrix. Distance normalized by covariance matrix\n",
    "- Cosine similarity, cosine of the angle between two vectors. the smaller the angle, the larger similarity. value between [-1, 1], independent of their magnitude.\n",
    "$$\\cos(\\theta) = \\frac{<A, B>}{|A|_2|B|_2}=\\frac{\\sum_i a_ib_i}{\\sqrt{\\sum_i a_i^2}\\sqrt{\\sum_i b_i^2}}$$\n",
    "- Jaccard similarity, on set. the ratio of intersection set size over union set size\n",
    "$$J(A,B)=\\frac{|A\\cap B|}{|A\\cup B|}$$"
   ]
  },
  {
   "cell_type": "code",
   "execution_count": 3,
   "metadata": {},
   "outputs": [
    {
     "data": {
      "text/plain": [
       "array([ 1.0000000e+00,  6.1232340e-17, -1.0000000e+00, -1.8369702e-16,\n",
       "        1.0000000e+00])"
      ]
     },
     "execution_count": 3,
     "metadata": {},
     "output_type": "execute_result"
    }
   ],
   "source": [
    "np.cos(np.pi*np.array([0,0.5,1,1.5,2]))"
   ]
  },
  {
   "cell_type": "markdown",
   "metadata": {},
   "source": [
    "## Discrimitive vs. Generative methods\n",
    "The goal is to estimate $P(y|X)$\n",
    "### generative methods\n",
    "Assume functional form of $P(X|y)$ and $P(y)$, estimate $P(X, y)$ first. Then using Bayes rule,\n",
    "$$P(y|X) = \\frac{P(X,|y)P(X)}{P(X)}$$\n",
    "### discrimitive methods\n",
    "Assum functional form of $P(y|X)$, estimate $P(y|X)$ directly from training data.\n",
    "\n",
    "Key take aways\n",
    "- The generative model does indeed have a higher asymptotic error (as the number of training examples become large) than the discriminative model. This means generally, discrimitive methods perform better than generative classifiers if we have many data. Because it make less assumption on data model. We can estimate statistics rather reliably if have enough data.\n",
    "- The generative model may approach its asymptotic error much faster than the discriminative model – possibly with a number of training examples that is only logarithmic, rather than linear, in the number of parameters. This means generative models may perform better when we have small data and model assumption is corret.\n",
    "- "
   ]
  },
  {
   "cell_type": "code",
   "execution_count": null,
   "metadata": {},
   "outputs": [],
   "source": []
  }
 ],
 "metadata": {
  "kernelspec": {
   "display_name": "Python 3",
   "language": "python",
   "name": "python3"
  },
  "language_info": {
   "codemirror_mode": {
    "name": "ipython",
    "version": 3
   },
   "file_extension": ".py",
   "mimetype": "text/x-python",
   "name": "python",
   "nbconvert_exporter": "python",
   "pygments_lexer": "ipython3",
   "version": "3.6.5"
  }
 },
 "nbformat": 4,
 "nbformat_minor": 2
}
